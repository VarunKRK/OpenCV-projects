{
 "cells": [
  {
   "cell_type": "code",
   "execution_count": null,
   "metadata": {},
   "outputs": [],
   "source": [
    "import cv2 as cv\n",
    "import numpy as np\n",
    "import matplotlib.pyplot as plt"
   ]
  }
 ],
 "metadata": {
  "interpreter": {
   "hash": "1a78fba4cf37a19a9d796fd0d7b1392b5939c42cd71c31ece1227a21b0cd5edd"
  },
  "kernelspec": {
   "display_name": "Python 3.9.12 ('OpenCV')",
   "language": "python",
   "name": "python3"
  },
  "language_info": {
   "name": "python",
   "version": "3.9.12"
  },
  "orig_nbformat": 4
 },
 "nbformat": 4,
 "nbformat_minor": 2
}
